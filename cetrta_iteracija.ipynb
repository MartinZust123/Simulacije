{
 "cells": [
  {
   "cell_type": "markdown",
   "metadata": {},
   "source": [
    "# Fourth iteration of simulation for SAoI\n",
    "\n",
    "In this lab we learn ourselves to find the right balance between low AoI and carbon footprint. For this reason we introduce carbon footprint budget that sets the upper limit for carbon emission. In this iteration we suppose that we have constant carbon footprint budget over the day and over the days, too. In the next iteration we are going to have changing budget over the day.  "
   ]
  },
  {
   "cell_type": "code",
   "execution_count": 1,
   "metadata": {},
   "outputs": [],
   "source": [
    "from Model_SAoI import Packet, System "
   ]
  },
  {
   "cell_type": "code",
   "execution_count": 2,
   "metadata": {},
   "outputs": [],
   "source": [
    "# We need to define function sinus that will represent value of CI over the time. \n",
    "def CI(t):\n",
    "    \"\"\"This function simulates value of CI (carbon intensity) over the time\"\"\"\n",
    "    return 100 * sin(t/(2*pi*3600*24)) + 300"
   ]
  },
  {
   "cell_type": "code",
   "execution_count": null,
   "metadata": {},
   "outputs": [],
   "source": [
    "#Now we write the simulation for M/M/1 queue over certain amout of time. \n",
    "\n",
    "#First we create our system\n",
    "system = System(0.5, 1, gateway=True, num_of_queues=1, num_of_servers=1, queue_capacity=None, FIFO=True)\n"
   ]
  }
 ],
 "metadata": {
  "kernelspec": {
   "display_name": "Python 3",
   "language": "python",
   "name": "python3"
  },
  "language_info": {
   "codemirror_mode": {
    "name": "ipython",
    "version": 3
   },
   "file_extension": ".py",
   "mimetype": "text/x-python",
   "name": "python",
   "nbconvert_exporter": "python",
   "pygments_lexer": "ipython3",
   "version": "3.9.1"
  }
 },
 "nbformat": 4,
 "nbformat_minor": 2
}
