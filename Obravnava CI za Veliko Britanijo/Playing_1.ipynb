{
 "cells": [
  {
   "cell_type": "markdown",
   "metadata": {},
   "source": [
    "# Playing with CSV file of carbon intensity for UK from 2nd Dec 2023 to 3rd Dec 2023"
   ]
  },
  {
   "cell_type": "markdown",
   "metadata": {},
   "source": [
    "We first import required librarires and CSV file."
   ]
  },
  {
   "cell_type": "code",
   "execution_count": 1,
   "metadata": {},
   "outputs": [
    {
     "data": {
      "text/html": [
       "<div>\n",
       "<style scoped>\n",
       "    .dataframe tbody tr th:only-of-type {\n",
       "        vertical-align: middle;\n",
       "    }\n",
       "\n",
       "    .dataframe tbody tr th {\n",
       "        vertical-align: top;\n",
       "    }\n",
       "\n",
       "    .dataframe thead th {\n",
       "        text-align: right;\n",
       "    }\n",
       "</style>\n",
       "<table border=\"1\" class=\"dataframe\">\n",
       "  <thead>\n",
       "    <tr style=\"text-align: right;\">\n",
       "      <th></th>\n",
       "      <th>Datetime (UTC)</th>\n",
       "      <th>Actual Carbon Intensity (gCO2/kWh)</th>\n",
       "      <th>Forecast Carbon Intensity (gCO2/kWh)</th>\n",
       "      <th>Index</th>\n",
       "    </tr>\n",
       "  </thead>\n",
       "  <tbody>\n",
       "    <tr>\n",
       "      <th>0</th>\n",
       "      <td>2023-11-25T00:00Z</td>\n",
       "      <td>111</td>\n",
       "      <td>116</td>\n",
       "      <td>low</td>\n",
       "    </tr>\n",
       "    <tr>\n",
       "      <th>1</th>\n",
       "      <td>2023-11-25T00:30Z</td>\n",
       "      <td>114</td>\n",
       "      <td>114</td>\n",
       "      <td>low</td>\n",
       "    </tr>\n",
       "    <tr>\n",
       "      <th>2</th>\n",
       "      <td>2023-11-25T01:00Z</td>\n",
       "      <td>107</td>\n",
       "      <td>111</td>\n",
       "      <td>low</td>\n",
       "    </tr>\n",
       "    <tr>\n",
       "      <th>3</th>\n",
       "      <td>2023-11-25T01:30Z</td>\n",
       "      <td>108</td>\n",
       "      <td>111</td>\n",
       "      <td>low</td>\n",
       "    </tr>\n",
       "    <tr>\n",
       "      <th>4</th>\n",
       "      <td>2023-11-25T02:00Z</td>\n",
       "      <td>110</td>\n",
       "      <td>108</td>\n",
       "      <td>low</td>\n",
       "    </tr>\n",
       "    <tr>\n",
       "      <th>...</th>\n",
       "      <td>...</td>\n",
       "      <td>...</td>\n",
       "      <td>...</td>\n",
       "      <td>...</td>\n",
       "    </tr>\n",
       "    <tr>\n",
       "      <th>380</th>\n",
       "      <td>2023-12-02T22:00Z</td>\n",
       "      <td>260</td>\n",
       "      <td>274</td>\n",
       "      <td>high</td>\n",
       "    </tr>\n",
       "    <tr>\n",
       "      <th>381</th>\n",
       "      <td>2023-12-02T22:30Z</td>\n",
       "      <td>254</td>\n",
       "      <td>274</td>\n",
       "      <td>high</td>\n",
       "    </tr>\n",
       "    <tr>\n",
       "      <th>382</th>\n",
       "      <td>2023-12-02T23:00Z</td>\n",
       "      <td>227</td>\n",
       "      <td>256</td>\n",
       "      <td>high</td>\n",
       "    </tr>\n",
       "    <tr>\n",
       "      <th>383</th>\n",
       "      <td>2023-12-02T23:30Z</td>\n",
       "      <td>220</td>\n",
       "      <td>256</td>\n",
       "      <td>high</td>\n",
       "    </tr>\n",
       "    <tr>\n",
       "      <th>384</th>\n",
       "      <td>2023-12-03T00:00Z</td>\n",
       "      <td>219</td>\n",
       "      <td>249</td>\n",
       "      <td>high</td>\n",
       "    </tr>\n",
       "  </tbody>\n",
       "</table>\n",
       "<p>385 rows × 4 columns</p>\n",
       "</div>"
      ],
      "text/plain": [
       "        Datetime (UTC)  Actual Carbon Intensity (gCO2/kWh)  \\\n",
       "0    2023-11-25T00:00Z                                 111   \n",
       "1    2023-11-25T00:30Z                                 114   \n",
       "2    2023-11-25T01:00Z                                 107   \n",
       "3    2023-11-25T01:30Z                                 108   \n",
       "4    2023-11-25T02:00Z                                 110   \n",
       "..                 ...                                 ...   \n",
       "380  2023-12-02T22:00Z                                 260   \n",
       "381  2023-12-02T22:30Z                                 254   \n",
       "382  2023-12-02T23:00Z                                 227   \n",
       "383  2023-12-02T23:30Z                                 220   \n",
       "384  2023-12-03T00:00Z                                 219   \n",
       "\n",
       "     Forecast Carbon Intensity (gCO2/kWh) Index  \n",
       "0                                     116   low  \n",
       "1                                     114   low  \n",
       "2                                     111   low  \n",
       "3                                     111   low  \n",
       "4                                     108   low  \n",
       "..                                    ...   ...  \n",
       "380                                   274  high  \n",
       "381                                   274  high  \n",
       "382                                   256  high  \n",
       "383                                   256  high  \n",
       "384                                   249  high  \n",
       "\n",
       "[385 rows x 4 columns]"
      ]
     },
     "execution_count": 1,
     "metadata": {},
     "output_type": "execute_result"
    }
   ],
   "source": [
    "import pandas as pd\n",
    "import matplotlib.pyplot as plt\n",
    "import numpy as np\n",
    "\n",
    "csv_file_path = 'Carbon_Intensity_Data_.csv'\n",
    "df = pd.read_csv(csv_file_path)\n",
    "\n",
    "df"
   ]
  },
  {
   "cell_type": "code",
   "execution_count": 3,
   "metadata": {},
   "outputs": [
    {
     "data": {
      "text/html": [
       "<div>\n",
       "<style scoped>\n",
       "    .dataframe tbody tr th:only-of-type {\n",
       "        vertical-align: middle;\n",
       "    }\n",
       "\n",
       "    .dataframe tbody tr th {\n",
       "        vertical-align: top;\n",
       "    }\n",
       "\n",
       "    .dataframe thead th {\n",
       "        text-align: right;\n",
       "    }\n",
       "</style>\n",
       "<table border=\"1\" class=\"dataframe\">\n",
       "  <thead>\n",
       "    <tr style=\"text-align: right;\">\n",
       "      <th></th>\n",
       "      <th>Datetime (UTC)</th>\n",
       "      <th>Actual Carbon Intensity (gCO2/kWh)</th>\n",
       "      <th>Forecast Carbon Intensity (gCO2/kWh)</th>\n",
       "      <th>Index</th>\n",
       "    </tr>\n",
       "  </thead>\n",
       "  <tbody>\n",
       "    <tr>\n",
       "      <th>9</th>\n",
       "      <td>2023-11-25T04:30Z</td>\n",
       "      <td>97</td>\n",
       "      <td>108</td>\n",
       "      <td>low</td>\n",
       "    </tr>\n",
       "    <tr>\n",
       "      <th>8</th>\n",
       "      <td>2023-11-25T04:00Z</td>\n",
       "      <td>100</td>\n",
       "      <td>114</td>\n",
       "      <td>low</td>\n",
       "    </tr>\n",
       "    <tr>\n",
       "      <th>10</th>\n",
       "      <td>2023-11-25T05:00Z</td>\n",
       "      <td>100</td>\n",
       "      <td>101</td>\n",
       "      <td>low</td>\n",
       "    </tr>\n",
       "    <tr>\n",
       "      <th>7</th>\n",
       "      <td>2023-11-25T03:30Z</td>\n",
       "      <td>106</td>\n",
       "      <td>108</td>\n",
       "      <td>low</td>\n",
       "    </tr>\n",
       "    <tr>\n",
       "      <th>2</th>\n",
       "      <td>2023-11-25T01:00Z</td>\n",
       "      <td>107</td>\n",
       "      <td>111</td>\n",
       "      <td>low</td>\n",
       "    </tr>\n",
       "    <tr>\n",
       "      <th>...</th>\n",
       "      <td>...</td>\n",
       "      <td>...</td>\n",
       "      <td>...</td>\n",
       "      <td>...</td>\n",
       "    </tr>\n",
       "    <tr>\n",
       "      <th>333</th>\n",
       "      <td>2023-12-01T22:30Z</td>\n",
       "      <td>304</td>\n",
       "      <td>304</td>\n",
       "      <td>very high</td>\n",
       "    </tr>\n",
       "    <tr>\n",
       "      <th>346</th>\n",
       "      <td>2023-12-02T05:00Z</td>\n",
       "      <td>306</td>\n",
       "      <td>306</td>\n",
       "      <td>very high</td>\n",
       "    </tr>\n",
       "    <tr>\n",
       "      <th>347</th>\n",
       "      <td>2023-12-02T05:30Z</td>\n",
       "      <td>306</td>\n",
       "      <td>302</td>\n",
       "      <td>very high</td>\n",
       "    </tr>\n",
       "    <tr>\n",
       "      <th>349</th>\n",
       "      <td>2023-12-02T06:30Z</td>\n",
       "      <td>307</td>\n",
       "      <td>309</td>\n",
       "      <td>very high</td>\n",
       "    </tr>\n",
       "    <tr>\n",
       "      <th>348</th>\n",
       "      <td>2023-12-02T06:00Z</td>\n",
       "      <td>309</td>\n",
       "      <td>310</td>\n",
       "      <td>very high</td>\n",
       "    </tr>\n",
       "  </tbody>\n",
       "</table>\n",
       "<p>385 rows × 4 columns</p>\n",
       "</div>"
      ],
      "text/plain": [
       "        Datetime (UTC)  Actual Carbon Intensity (gCO2/kWh)  \\\n",
       "9    2023-11-25T04:30Z                                  97   \n",
       "8    2023-11-25T04:00Z                                 100   \n",
       "10   2023-11-25T05:00Z                                 100   \n",
       "7    2023-11-25T03:30Z                                 106   \n",
       "2    2023-11-25T01:00Z                                 107   \n",
       "..                 ...                                 ...   \n",
       "333  2023-12-01T22:30Z                                 304   \n",
       "346  2023-12-02T05:00Z                                 306   \n",
       "347  2023-12-02T05:30Z                                 306   \n",
       "349  2023-12-02T06:30Z                                 307   \n",
       "348  2023-12-02T06:00Z                                 309   \n",
       "\n",
       "     Forecast Carbon Intensity (gCO2/kWh)      Index  \n",
       "9                                     108        low  \n",
       "8                                     114        low  \n",
       "10                                    101        low  \n",
       "7                                     108        low  \n",
       "2                                     111        low  \n",
       "..                                    ...        ...  \n",
       "333                                   304  very high  \n",
       "346                                   306  very high  \n",
       "347                                   302  very high  \n",
       "349                                   309  very high  \n",
       "348                                   310  very high  \n",
       "\n",
       "[385 rows x 4 columns]"
      ]
     },
     "execution_count": 3,
     "metadata": {},
     "output_type": "execute_result"
    }
   ],
   "source": [
    "df_index_ordered = df.sort_values(\"Actual Carbon Intensity (gCO2/kWh)\", ascending=True)\n",
    "df_index_ordered"
   ]
  },
  {
   "cell_type": "code",
   "execution_count": 14,
   "metadata": {},
   "outputs": [
    {
     "data": {
      "image/png": "[encoded data removed]",
      "text/plain": [
       "<Figure size 640x480 with 1 Axes>"
      ]
     },
     "metadata": {},
     "output_type": "display_data"
    }
   ],
   "source": [
    "plt.plot(df[\"Actual Carbon Intensity (gCO2/kWh)\"], label=\"Actual Carbon Intensity (gCO2/hWh)\")\n",
    "plt.plot(df[\"Forecast Carbon Intensity (gCO2/kWh)\"], label=\"Forecast Carbon Intensity (gCO2/kWh)\")\n",
    "\n",
    "plt.xlabel(\"time\")\n",
    "plt.ylabel(\"CI\")\n",
    "plt.legend()\n",
    "plt.show()"
   ]
  },
  {
   "cell_type": "markdown",
   "metadata": {},
   "source": [
    "Let's look at the type of any object in column \"Actual Carbon Intensity (gCO2/kWh)\"."
   ]
  },
  {
   "cell_type": "code",
   "execution_count": 15,
   "metadata": {},
   "outputs": [
    {
     "data": {
      "text/plain": [
       "numpy.int64"
      ]
     },
     "execution_count": 15,
     "metadata": {},
     "output_type": "execute_result"
    }
   ],
   "source": [
    "type(df[\"Actual Carbon Intensity (gCO2/kWh)\"][1])"
   ]
  },
  {
   "cell_type": "code",
   "execution_count": 16,
   "metadata": {},
   "outputs": [],
   "source": [
    "data = np.array(df[\"Actual Carbon Intensity (gCO2/kWh)\"])"
   ]
  },
  {
   "cell_type": "code",
   "execution_count": 17,
   "metadata": {},
   "outputs": [
    {
     "data": {
      "text/plain": [
       "array([111, 114, 107, 108, 110, 109, 111, 106, 100,  97, 100, 107, 116,\n",
       "       127, 134, 148, 161, 167, 165, 162, 162, 153, 149, 148, 152, 153,\n",
       "       156, 163, 168, 182, 201, 217, 221, 219, 218, 211, 215, 216, 220,\n",
       "       224, 228, 229, 225, 222, 228, 219, 209, 207, 206, 208, 208, 208,\n",
       "       206, 206, 209, 206, 211, 217, 214, 216, 213, 218, 238, 242, 239,\n",
       "       241, 244, 245, 245, 243, 241, 242, 245, 247, 248, 250, 253, 255,\n",
       "       254, 257, 250, 249, 247, 248, 247, 248, 248, 244, 243, 237, 225,\n",
       "       219, 220, 209, 187, 182, 181, 184, 185, 184, 187, 187, 188, 187,\n",
       "       186, 188, 204, 216, 248, 259, 257, 251, 240, 237, 233, 231, 229,\n",
       "       225, 225, 221, 219, 213, 215, 213, 210, 206, 195, 195, 197, 194,\n",
       "       195, 193, 193, 193, 187, 182, 176, 167, 157, 149, 143, 135, 114,\n",
       "       115, 119, 122, 115, 122, 130, 136, 144, 150, 151, 150, 171, 191,\n",
       "       229, 251, 257, 262, 264, 264, 267, 263, 258, 254, 243, 232, 229,\n",
       "       226, 232, 235, 229, 232, 238, 240, 235, 235, 230, 230, 230, 228,\n",
       "       232, 228, 229, 223, 217, 209, 204, 196, 191, 189, 182, 177, 160,\n",
       "       157, 168, 179, 182, 186, 206, 210, 223, 236, 248, 266, 279, 286,\n",
       "       283, 286, 276, 272, 267, 264, 255, 253, 256, 253, 256, 254, 251,\n",
       "       254, 258, 264, 263, 263, 261, 256, 258, 257, 261, 268, 276, 276,\n",
       "       283, 279, 285, 277, 277, 275, 277, 276, 273, 272, 265, 263, 255,\n",
       "       253, 258, 260, 262, 269, 271, 275, 277, 283, 279, 278, 278, 275,\n",
       "       270, 268, 256, 258, 261, 260, 254, 254, 258, 260, 260, 263, 258,\n",
       "       258, 261, 261, 263, 265, 265, 264, 265, 270, 281, 278, 285, 285,\n",
       "       284, 287, 286, 290, 285, 282, 281, 283, 283, 283, 285, 285, 284,\n",
       "       281, 283, 289, 292, 292, 284, 283, 275, 269, 270, 273, 269, 264,\n",
       "       263, 269, 269, 268, 269, 276, 282, 285, 281, 280, 280, 285, 288,\n",
       "       290, 292, 293, 293, 293, 297, 294, 303, 304, 300, 298, 297, 299,\n",
       "       299, 298, 298, 298, 299, 300, 304, 300, 306, 306, 309, 307, 302,\n",
       "       299, 292, 294, 282, 277, 273, 272, 271, 271, 271, 270, 266, 267,\n",
       "       268, 272, 272, 276, 272, 271, 266, 266, 266, 265, 268, 270, 273,\n",
       "       271, 279, 272, 260, 254, 227, 220, 219], dtype=int64)"
      ]
     },
     "execution_count": 17,
     "metadata": {},
     "output_type": "execute_result"
    }
   ],
   "source": [
    "data"
   ]
  },
  {
   "cell_type": "markdown",
   "metadata": {},
   "source": [
    "Izračunajmo sedaj povprečno vrednost carbon intensity po posameznih dneh. "
   ]
  },
  {
   "cell_type": "code",
   "execution_count": 4,
   "metadata": {},
   "outputs": [
    {
     "data": {
      "text/plain": [
       "167.78"
      ]
     },
     "execution_count": 4,
     "metadata": {},
     "output_type": "execute_result"
    }
   ],
   "source": [
    "povprecje1 = sum(df[\"Actual Carbon Intensity (gCO2/kWh)\"][0:50])/50\n",
    "povprecje1"
   ]
  },
  {
   "cell_type": "code",
   "execution_count": 5,
   "metadata": {},
   "outputs": [
    {
     "data": {
      "text/plain": [
       "227.96"
      ]
     },
     "execution_count": 5,
     "metadata": {},
     "output_type": "execute_result"
    }
   ],
   "source": [
    "povprecje2 = sum(df[\"Actual Carbon Intensity (gCO2/kWh)\"][50:100])/50\n",
    "povprecje2"
   ]
  },
  {
   "cell_type": "code",
   "execution_count": 6,
   "metadata": {},
   "outputs": [
    {
     "data": {
      "text/plain": [
       "189.98"
      ]
     },
     "execution_count": 6,
     "metadata": {},
     "output_type": "execute_result"
    }
   ],
   "source": [
    "povprecje3 = sum(df[\"Actual Carbon Intensity (gCO2/kWh)\"][100:150])/50\n",
    "povprecje3"
   ]
  },
  {
   "cell_type": "code",
   "execution_count": 7,
   "metadata": {},
   "outputs": [
    {
     "data": {
      "text/plain": [
       "215.18"
      ]
     },
     "execution_count": 7,
     "metadata": {},
     "output_type": "execute_result"
    }
   ],
   "source": [
    "povprecje4 = sum(df[\"Actual Carbon Intensity (gCO2/kWh)\"][150:200])/50\n",
    "povprecje4"
   ]
  },
  {
   "cell_type": "code",
   "execution_count": 8,
   "metadata": {},
   "outputs": [
    {
     "data": {
      "text/plain": [
       "262.46"
      ]
     },
     "execution_count": 8,
     "metadata": {},
     "output_type": "execute_result"
    }
   ],
   "source": [
    "povprecje5 = sum(df[\"Actual Carbon Intensity (gCO2/kWh)\"][200:250])/50\n",
    "povprecje5"
   ]
  },
  {
   "cell_type": "code",
   "execution_count": 9,
   "metadata": {},
   "outputs": [
    {
     "data": {
      "text/plain": [
       "272.14"
      ]
     },
     "execution_count": 9,
     "metadata": {},
     "output_type": "execute_result"
    }
   ],
   "source": [
    "povprecje6 = sum(df[\"Actual Carbon Intensity (gCO2/kWh)\"][250:300])/50\n",
    "povprecje6"
   ]
  },
  {
   "cell_type": "code",
   "execution_count": 10,
   "metadata": {},
   "outputs": [
    {
     "data": {
      "text/plain": [
       "288.3"
      ]
     },
     "execution_count": 10,
     "metadata": {},
     "output_type": "execute_result"
    }
   ],
   "source": [
    "povprecje7 = sum(df[\"Actual Carbon Intensity (gCO2/kWh)\"][300:350])/50\n",
    "povprecje7"
   ]
  },
  {
   "cell_type": "code",
   "execution_count": 11,
   "metadata": {},
   "outputs": [
    {
     "data": {
      "text/plain": [
       "188.28"
      ]
     },
     "execution_count": 11,
     "metadata": {},
     "output_type": "execute_result"
    }
   ],
   "source": [
    "povprecje8 = sum(df[\"Actual Carbon Intensity (gCO2/kWh)\"][350:400])/50\n",
    "povprecje8"
   ]
  },
  {
   "cell_type": "code",
   "execution_count": null,
   "metadata": {},
   "outputs": [],
   "source": []
  }
 ],
 "metadata": {
  "kernelspec": {
   "display_name": "Python 3",
   "language": "python",
   "name": "python3"
  },
  "language_info": {
   "codemirror_mode": {
    "name": "ipython",
    "version": 3
   },
   "file_extension": ".py",
   "mimetype": "text/x-python",
   "name": "python",
   "nbconvert_exporter": "python",
   "pygments_lexer": "ipython3",
   "version": "3.9.1"
  }
 },
 "nbformat": 4,
 "nbformat_minor": 2
}
