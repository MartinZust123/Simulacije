{
 "cells": [
  {
   "cell_type": "markdown",
   "metadata": {},
   "source": [
    "# Playing with CSV file of carbon intensity for UK from 2nd Dec 2023 to 3rd Dec 2023"
   ]
  },
  {
   "cell_type": "markdown",
   "metadata": {},
   "source": [
    "We first import required librarires and CSV file."
   ]
  },
  {
   "cell_type": "code",
   "execution_count": 1,
   "metadata": {},
   "outputs": [
    {
     "data": {
      "text/html": [
       "<div>\n",
       "<style scoped>\n",
       "    .dataframe tbody tr th:only-of-type {\n",
       "        vertical-align: middle;\n",
       "    }\n",
       "\n",
       "    .dataframe tbody tr th {\n",
       "        vertical-align: top;\n",
       "    }\n",
       "\n",
       "    .dataframe thead th {\n",
       "        text-align: right;\n",
       "    }\n",
       "</style>\n",
       "<table border=\"1\" class=\"dataframe\">\n",
       "  <thead>\n",
       "    <tr style=\"text-align: right;\">\n",
       "      <th></th>\n",
       "      <th>Datetime (UTC)</th>\n",
       "      <th>Actual Carbon Intensity (gCO2/kWh)</th>\n",
       "      <th>Forecast Carbon Intensity (gCO2/kWh)</th>\n",
       "      <th>Index</th>\n",
       "    </tr>\n",
       "  </thead>\n",
       "  <tbody>\n",
       "    <tr>\n",
       "      <th>0</th>\n",
       "      <td>2023-11-25T00:00Z</td>\n",
       "      <td>111</td>\n",
       "      <td>116</td>\n",
       "      <td>low</td>\n",
       "    </tr>\n",
       "    <tr>\n",
       "      <th>1</th>\n",
       "      <td>2023-11-25T00:30Z</td>\n",
       "      <td>114</td>\n",
       "      <td>114</td>\n",
       "      <td>low</td>\n",
       "    </tr>\n",
       "    <tr>\n",
       "      <th>2</th>\n",
       "      <td>2023-11-25T01:00Z</td>\n",
       "      <td>107</td>\n",
       "      <td>111</td>\n",
       "      <td>low</td>\n",
       "    </tr>\n",
       "    <tr>\n",
       "      <th>3</th>\n",
       "      <td>2023-11-25T01:30Z</td>\n",
       "      <td>108</td>\n",
       "      <td>111</td>\n",
       "      <td>low</td>\n",
       "    </tr>\n",
       "    <tr>\n",
       "      <th>4</th>\n",
       "      <td>2023-11-25T02:00Z</td>\n",
       "      <td>110</td>\n",
       "      <td>108</td>\n",
       "      <td>low</td>\n",
       "    </tr>\n",
       "    <tr>\n",
       "      <th>...</th>\n",
       "      <td>...</td>\n",
       "      <td>...</td>\n",
       "      <td>...</td>\n",
       "      <td>...</td>\n",
       "    </tr>\n",
       "    <tr>\n",
       "      <th>380</th>\n",
       "      <td>2023-12-02T22:00Z</td>\n",
       "      <td>260</td>\n",
       "      <td>274</td>\n",
       "      <td>high</td>\n",
       "    </tr>\n",
       "    <tr>\n",
       "      <th>381</th>\n",
       "      <td>2023-12-02T22:30Z</td>\n",
       "      <td>254</td>\n",
       "      <td>274</td>\n",
       "      <td>high</td>\n",
       "    </tr>\n",
       "    <tr>\n",
       "      <th>382</th>\n",
       "      <td>2023-12-02T23:00Z</td>\n",
       "      <td>227</td>\n",
       "      <td>256</td>\n",
       "      <td>high</td>\n",
       "    </tr>\n",
       "    <tr>\n",
       "      <th>383</th>\n",
       "      <td>2023-12-02T23:30Z</td>\n",
       "      <td>220</td>\n",
       "      <td>256</td>\n",
       "      <td>high</td>\n",
       "    </tr>\n",
       "    <tr>\n",
       "      <th>384</th>\n",
       "      <td>2023-12-03T00:00Z</td>\n",
       "      <td>219</td>\n",
       "      <td>249</td>\n",
       "      <td>high</td>\n",
       "    </tr>\n",
       "  </tbody>\n",
       "</table>\n",
       "<p>385 rows × 4 columns</p>\n",
       "</div>"
      ],
      "text/plain": [
       "        Datetime (UTC)  Actual Carbon Intensity (gCO2/kWh)  \\\n",
       "0    2023-11-25T00:00Z                                 111   \n",
       "1    2023-11-25T00:30Z                                 114   \n",
       "2    2023-11-25T01:00Z                                 107   \n",
       "3    2023-11-25T01:30Z                                 108   \n",
       "4    2023-11-25T02:00Z                                 110   \n",
       "..                 ...                                 ...   \n",
       "380  2023-12-02T22:00Z                                 260   \n",
       "381  2023-12-02T22:30Z                                 254   \n",
       "382  2023-12-02T23:00Z                                 227   \n",
       "383  2023-12-02T23:30Z                                 220   \n",
       "384  2023-12-03T00:00Z                                 219   \n",
       "\n",
       "     Forecast Carbon Intensity (gCO2/kWh) Index  \n",
       "0                                     116   low  \n",
       "1                                     114   low  \n",
       "2                                     111   low  \n",
       "3                                     111   low  \n",
       "4                                     108   low  \n",
       "..                                    ...   ...  \n",
       "380                                   274  high  \n",
       "381                                   274  high  \n",
       "382                                   256  high  \n",
       "383                                   256  high  \n",
       "384                                   249  high  \n",
       "\n",
       "[385 rows x 4 columns]"
      ]
     },
     "execution_count": 1,
     "metadata": {},
     "output_type": "execute_result"
    }
   ],
   "source": [
    "import pandas as pd\n",
    "import matplotlib.pyplot as plt\n",
    "import numpy as np\n",
    "\n",
    "csv_file_path = 'Carbon_Intensity_Data_.csv'\n",
    "df = pd.read_csv(csv_file_path)\n",
    "\n",
    "df"
   ]
  },
  {
   "cell_type": "code",
   "execution_count": 3,
   "metadata": {},
   "outputs": [
    {
     "data": {
      "text/html": [
       "<div>\n",
       "<style scoped>\n",
       "    .dataframe tbody tr th:only-of-type {\n",
       "        vertical-align: middle;\n",
       "    }\n",
       "\n",
       "    .dataframe tbody tr th {\n",
       "        vertical-align: top;\n",
       "    }\n",
       "\n",
       "    .dataframe thead th {\n",
       "        text-align: right;\n",
       "    }\n",
       "</style>\n",
       "<table border=\"1\" class=\"dataframe\">\n",
       "  <thead>\n",
       "    <tr style=\"text-align: right;\">\n",
       "      <th></th>\n",
       "      <th>Datetime (UTC)</th>\n",
       "      <th>Actual Carbon Intensity (gCO2/kWh)</th>\n",
       "      <th>Forecast Carbon Intensity (gCO2/kWh)</th>\n",
       "      <th>Index</th>\n",
       "    </tr>\n",
       "  </thead>\n",
       "  <tbody>\n",
       "    <tr>\n",
       "      <th>9</th>\n",
       "      <td>2023-11-25T04:30Z</td>\n",
       "      <td>97</td>\n",
       "      <td>108</td>\n",
       "      <td>low</td>\n",
       "    </tr>\n",
       "    <tr>\n",
       "      <th>8</th>\n",
       "      <td>2023-11-25T04:00Z</td>\n",
       "      <td>100</td>\n",
       "      <td>114</td>\n",
       "      <td>low</td>\n",
       "    </tr>\n",
       "    <tr>\n",
       "      <th>10</th>\n",
       "      <td>2023-11-25T05:00Z</td>\n",
       "      <td>100</td>\n",
       "      <td>101</td>\n",
       "      <td>low</td>\n",
       "    </tr>\n",
       "    <tr>\n",
       "      <th>7</th>\n",
       "      <td>2023-11-25T03:30Z</td>\n",
       "      <td>106</td>\n",
       "      <td>108</td>\n",
       "      <td>low</td>\n",
       "    </tr>\n",
       "    <tr>\n",
       "      <th>2</th>\n",
       "      <td>2023-11-25T01:00Z</td>\n",
       "      <td>107</td>\n",
       "      <td>111</td>\n",
       "      <td>low</td>\n",
       "    </tr>\n",
       "    <tr>\n",
       "      <th>...</th>\n",
       "      <td>...</td>\n",
       "      <td>...</td>\n",
       "      <td>...</td>\n",
       "      <td>...</td>\n",
       "    </tr>\n",
       "    <tr>\n",
       "      <th>333</th>\n",
       "      <td>2023-12-01T22:30Z</td>\n",
       "      <td>304</td>\n",
       "      <td>304</td>\n",
       "      <td>very high</td>\n",
       "    </tr>\n",
       "    <tr>\n",
       "      <th>346</th>\n",
       "      <td>2023-12-02T05:00Z</td>\n",
       "      <td>306</td>\n",
       "      <td>306</td>\n",
       "      <td>very high</td>\n",
       "    </tr>\n",
       "    <tr>\n",
       "      <th>347</th>\n",
       "      <td>2023-12-02T05:30Z</td>\n",
       "      <td>306</td>\n",
       "      <td>302</td>\n",
       "      <td>very high</td>\n",
       "    </tr>\n",
       "    <tr>\n",
       "      <th>349</th>\n",
       "      <td>2023-12-02T06:30Z</td>\n",
       "      <td>307</td>\n",
       "      <td>309</td>\n",
       "      <td>very high</td>\n",
       "    </tr>\n",
       "    <tr>\n",
       "      <th>348</th>\n",
       "      <td>2023-12-02T06:00Z</td>\n",
       "      <td>309</td>\n",
       "      <td>310</td>\n",
       "      <td>very high</td>\n",
       "    </tr>\n",
       "  </tbody>\n",
       "</table>\n",
       "<p>385 rows × 4 columns</p>\n",
       "</div>"
      ],
      "text/plain": [
       "        Datetime (UTC)  Actual Carbon Intensity (gCO2/kWh)  \\\n",
       "9    2023-11-25T04:30Z                                  97   \n",
       "8    2023-11-25T04:00Z                                 100   \n",
       "10   2023-11-25T05:00Z                                 100   \n",
       "7    2023-11-25T03:30Z                                 106   \n",
       "2    2023-11-25T01:00Z                                 107   \n",
       "..                 ...                                 ...   \n",
       "333  2023-12-01T22:30Z                                 304   \n",
       "346  2023-12-02T05:00Z                                 306   \n",
       "347  2023-12-02T05:30Z                                 306   \n",
       "349  2023-12-02T06:30Z                                 307   \n",
       "348  2023-12-02T06:00Z                                 309   \n",
       "\n",
       "     Forecast Carbon Intensity (gCO2/kWh)      Index  \n",
       "9                                     108        low  \n",
       "8                                     114        low  \n",
       "10                                    101        low  \n",
       "7                                     108        low  \n",
       "2                                     111        low  \n",
       "..                                    ...        ...  \n",
       "333                                   304  very high  \n",
       "346                                   306  very high  \n",
       "347                                   302  very high  \n",
       "349                                   309  very high  \n",
       "348                                   310  very high  \n",
       "\n",
       "[385 rows x 4 columns]"
      ]
     },
     "execution_count": 3,
     "metadata": {},
     "output_type": "execute_result"
    }
   ],
   "source": [
    "df_index_ordered = df.sort_values(\"Actual Carbon Intensity (gCO2/kWh)\", ascending=True)\n",
    "df_index_ordered"
   ]
  },
  {
   "cell_type": "code",
   "execution_count": 14,
   "metadata": {},
   "outputs": [
    {
     "data": {
      "image/png": "[encoded data removed]",
      "text/plain": [
       "<Figure size 640x480 with 1 Axes>"
      ]
     },
     "metadata": {},
     "output_type": "display_data"
    }
   ],
   "source": [
    "plt.plot(df[\"Actual Carbon Intensity (gCO2/kWh)\"], label=\"Actual Carbon Intensity (gCO2/hWh)\")\n",
    "plt.plot(df[\"Forecast Carbon Intensity (gCO2/kWh)\"], label=\"Forecast Carbon Intensity (gCO2/kWh)\")\n",
    "\n",
    "plt.xlabel(\"time\")\n",
    "plt.ylabel(\"CI\")\n",
    "plt.legend()\n",
    "plt.show()"
   ]
  },
  {
   "cell_type": "markdown",
   "metadata": {},
   "source": [
    "Let's look at the type of any object in column \"Actual Carbon Intensity (gCO2/kWh)\"."
   ]
  },
  {
   "cell_type": "code",
   "execution_count": 15,
   "metadata": {},
   "outputs": [
    {
     "data": {
      "text/plain": [
       "numpy.int64"
      ]
     },
     "execution_count": 15,
     "metadata": {},
     "output_type": "execute_result"
    }
   ],
   "source": [
    "type(df[\"Actual Carbon Intensity (gCO2/kWh)\"][1])"
   ]
  },
  {
   "cell_type": "code",
   "execution_count": 16,
   "metadata": {},
   "outputs": [],
   "source": [
    "data = np.array(df[\"Actual Carbon Intensity (gCO2/kWh)\"])"
   ]
  },
  {
   "cell_type": "code",
   "execution_count": 17,
   "metadata": {},
   "outputs": [
    {
     "data": {
      "text/plain": [
       "array([111, 114, 107, 108, 110, 109, 111, 106, 100,  97, 100, 107, 116,\n",
       "       127, 134, 148, 161, 167, 165, 162, 162, 153, 149, 148, 152, 153,\n",
       "       156, 163, 168, 182, 201, 217, 221, 219, 218, 211, 215, 216, 220,\n",
       "       224, 228, 229, 225, 222, 228, 219, 209, 207, 206, 208, 208, 208,\n",
       "       206, 206, 209, 206, 211, 217, 214, 216, 213, 218, 238, 242, 239,\n",
       "       241, 244, 245, 245, 243, 241, 242, 245, 247, 248, 250, 253, 255,\n",
       "       254, 257, 250, 249, 247, 248, 247, 248, 248, 244, 243, 237, 225,\n",
       "       219, 220, 209, 187, 182, 181, 184, 185, 184, 187, 187, 188, 187,\n",
       "       186, 188, 204, 216, 248, 259, 257, 251, 240, 237, 233, 231, 229,\n",
       "       225, 225, 221, 219, 213, 215, 213, 210, 206, 195, 195, 197, 194,\n",
       "       195, 193, 193, 193, 187, 182, 176, 167, 157, 149, 143, 135, 114,\n",
       "       115, 119, 122, 115, 122, 130, 136, 144, 150, 151, 150, 171, 191,\n",
       "       229, 251, 257, 262, 264, 264, 267, 263, 258, 254, 243, 232, 229,\n",
       "       226, 232, 235, 229, 232, 238, 240, 235, 235, 230, 230, 230, 228,\n",
       "       232, 228, 229, 223, 217, 209, 204, 196, 191, 189, 182, 177, 160,\n",
       "       157, 168, 179, 182, 186, 206, 210, 223, 236, 248, 266, 279, 286,\n",
       "       283, 286, 276, 272, 267, 264, 255, 253, 256, 253, 256, 254, 251,\n",
       "       254, 258, 264, 263, 263, 261, 256, 258, 257, 261, 268, 276, 276,\n",
       "       283, 279, 285, 277, 277, 275, 277, 276, 273, 272, 265, 263, 255,\n",
       "       253, 258, 260, 262, 269, 271, 275, 277, 283, 279, 278, 278, 275,\n",
       "       270, 268, 256, 258, 261, 260, 254, 254, 258, 260, 260, 263, 258,\n",
       "       258, 261, 261, 263, 265, 265, 264, 265, 270, 281, 278, 285, 285,\n",
       "       284, 287, 286, 290, 285, 282, 281, 283, 283, 283, 285, 285, 284,\n",
       "       281, 283, 289, 292, 292, 284, 283, 275, 269, 270, 273, 269, 264,\n",
       "       263, 269, 269, 268, 269, 276, 282, 285, 281, 280, 280, 285, 288,\n",
       "       290, 292, 293, 293, 293, 297, 294, 303, 304, 300, 298, 297, 299,\n",
       "       299, 298, 298, 298, 299, 300, 304, 300, 306, 306, 309, 307, 302,\n",
       "       299, 292, 294, 282, 277, 273, 272, 271, 271, 271, 270, 266, 267,\n",
       "       268, 272, 272, 276, 272, 271, 266, 266, 266, 265, 268, 270, 273,\n",
       "       271, 279, 272, 260, 254, 227, 220, 219], dtype=int64)"
      ]
     },
     "execution_count": 17,
     "metadata": {},
     "output_type": "execute_result"
    }
   ],
   "source": [
    "data"
   ]
  },
  {
   "cell_type": "markdown",
   "metadata": {},
   "source": [
    "Izračunajmo sedaj povprečno vrednost carbon intensity po posameznih dneh. "
   ]
  },
  {
   "cell_type": "code",
   "execution_count": 4,
   "metadata": {},
   "outputs": [
    {
     "data": {
      "text/plain": [
       "167.78"
      ]
     },
     "execution_count": 4,
     "metadata": {},
     "output_type": "execute_result"
    }
   ],
   "source": [
    "povprecje1 = sum(df[\"Actual Carbon Intensity (gCO2/kWh)\"][0:50])/50\n",
    "povprecje1"
   ]
  },
  {
   "cell_type": "code",
   "execution_count": 5,
   "metadata": {},
   "outputs": [
    {
     "data": {
      "text/plain": [
       "227.96"
      ]
     },
     "execution_count": 5,
     "metadata": {},
     "output_type": "execute_result"
    }
   ],
   "source": [
    "povprecje2 = sum(df[\"Actual Carbon Intensity (gCO2/kWh)\"][50:100])/50\n",
    "povprecje2"
   ]
  },
  {
   "cell_type": "code",
   "execution_count": 6,
   "metadata": {},
   "outputs": [
    {
     "data": {
      "text/plain": [
       "189.98"
      ]
     },
     "execution_count": 6,
     "metadata": {},
     "output_type": "execute_result"
    }
   ],
   "source": [
    "povprecje3 = sum(df[\"Actual Carbon Intensity (gCO2/kWh)\"][100:150])/50\n",
    "povprecje3"
   ]
  },
  {
   "cell_type": "code",
   "execution_count": 7,
   "metadata": {},
   "outputs": [
    {
     "data": {
      "text/plain": [
       "215.18"
      ]
     },
     "execution_count": 7,
     "metadata": {},
     "output_type": "execute_result"
    }
   ],
   "source": [
    "povprecje4 = sum(df[\"Actual Carbon Intensity (gCO2/kWh)\"][150:200])/50\n",
    "povprecje4"
   ]
  },
  {
   "cell_type": "code",
   "execution_count": 8,
   "metadata": {},
   "outputs": [
    {
     "data": {
      "text/plain": [
       "262.46"
      ]
     },
     "execution_count": 8,
     "metadata": {},
     "output_type": "execute_result"
    }
   ],
   "source": [
    "povprecje5 = sum(df[\"Actual Carbon Intensity (gCO2/kWh)\"][200:250])/50\n",
    "povprecje5"
   ]
  },
  {
   "cell_type": "code",
   "execution_count": 9,
   "metadata": {},
   "outputs": [
    {
     "data": {
      "text/plain": [
       "272.14"
      ]
     },
     "execution_count": 9,
     "metadata": {},
     "output_type": "execute_result"
    }
   ],
   "source": [
    "povprecje6 = sum(df[\"Actual Carbon Intensity (gCO2/kWh)\"][250:300])/50\n",
    "povprecje6"
   ]
  },
  {
   "cell_type": "code",
   "execution_count": 10,
   "metadata": {},
   "outputs": [
    {
     "data": {
      "text/plain": [
       "288.3"
      ]
     },
     "execution_count": 10,
     "metadata": {},
     "output_type": "execute_result"
    }
   ],
   "source": [
    "povprecje7 = sum(df[\"Actual Carbon Intensity (gCO2/kWh)\"][300:350])/50\n",
    "povprecje7"
   ]
  },
  {
   "cell_type": "code",
   "execution_count": 11,
   "metadata": {},
   "outputs": [
    {
     "data": {
      "text/plain": [
       "188.28"
      ]
     },
     "execution_count": 11,
     "metadata": {},
     "output_type": "execute_result"
    }
   ],
   "source": [
    "povprecje8 = sum(df[\"Actual Carbon Intensity (gCO2/kWh)\"][350:400])/50\n",
    "povprecje8"
   ]
  },
  {
   "cell_type": "markdown",
   "metadata": {},
   "source": [
    "Koliko pa je povprečje vseh osmih dni?"
   ]
  },
  {
   "cell_type": "code",
   "execution_count": 12,
   "metadata": {},
   "outputs": [
    {
     "data": {
      "text/plain": [
       "235.33506493506493"
      ]
     },
     "execution_count": 12,
     "metadata": {},
     "output_type": "execute_result"
    }
   ],
   "source": [
    "povprecje = sum(df[\"Actual Carbon Intensity (gCO2/kWh)\"])/len(df)\n",
    "povprecje"
   ]
  },
  {
   "cell_type": "code",
   "execution_count": 14,
   "metadata": {},
   "outputs": [
    {
     "data": {
      "text/plain": [
       "(array([ 3.,  0.,  5.,  3.,  5.,  3.,  0.,  2.,  2.,  1.,  1.,  1.,  8.,\n",
       "         3.,  3.,  4.,  5.,  1.,  2.,  2., 10.,  8.,  6.,  5.,  1.,  9.,\n",
       "        11.,  6., 13.,  9., 10., 14.,  5.,  9., 10., 10.,  9., 26., 13.,\n",
       "        23., 19., 21., 18., 17., 15.,  8.,  5., 13.,  4.,  4.]),\n",
       " array([ 97.  , 101.24, 105.48, 109.72, 113.96, 118.2 , 122.44, 126.68,\n",
       "        130.92, 135.16, 139.4 , 143.64, 147.88, 152.12, 156.36, 160.6 ,\n",
       "        164.84, 169.08, 173.32, 177.56, 181.8 , 186.04, 190.28, 194.52,\n",
       "        198.76, 203.  , 207.24, 211.48, 215.72, 219.96, 224.2 , 228.44,\n",
       "        232.68, 236.92, 241.16, 245.4 , 249.64, 253.88, 258.12, 262.36,\n",
       "        266.6 , 270.84, 275.08, 279.32, 283.56, 287.8 , 292.04, 296.28,\n",
       "        300.52, 304.76, 309.  ]),\n",
       " <BarContainer object of 50 artists>)"
      ]
     },
     "execution_count": 14,
     "metadata": {},
     "output_type": "execute_result"
    },
    {
     "data": {
      "image/png": "[encoded data removed]",
      "text/plain": [
       "<Figure size 640x480 with 1 Axes>"
      ]
     },
     "metadata": {},
     "output_type": "display_data"
    }
   ],
   "source": [
    "plt.hist(df[\"Actual Carbon Intensity (gCO2/kWh)\"], bins=50)"
   ]
  },
  {
   "cell_type": "code",
   "execution_count": 15,
   "metadata": {},
   "outputs": [],
   "source": [
    "csv_file_path1 = 'Carbon_Intensity_1.csv'\n",
    "df1 = pd.read_csv(csv_file_path1)"
   ]
  },
  {
   "cell_type": "code",
   "execution_count": 16,
   "metadata": {},
   "outputs": [
    {
     "data": {
      "text/html": [
       "<div>\n",
       "<style scoped>\n",
       "    .dataframe tbody tr th:only-of-type {\n",
       "        vertical-align: middle;\n",
       "    }\n",
       "\n",
       "    .dataframe tbody tr th {\n",
       "        vertical-align: top;\n",
       "    }\n",
       "\n",
       "    .dataframe thead th {\n",
       "        text-align: right;\n",
       "    }\n",
       "</style>\n",
       "<table border=\"1\" class=\"dataframe\">\n",
       "  <thead>\n",
       "    <tr style=\"text-align: right;\">\n",
       "      <th></th>\n",
       "      <th>Datetime (UTC)</th>\n",
       "      <th>Actual Carbon Intensity (gCO2/kWh)</th>\n",
       "      <th>Forecast Carbon Intensity (gCO2/kWh)</th>\n",
       "      <th>Index</th>\n",
       "    </tr>\n",
       "  </thead>\n",
       "  <tbody>\n",
       "    <tr>\n",
       "      <th>0</th>\n",
       "      <td>2023-11-11T00:00Z</td>\n",
       "      <td>104</td>\n",
       "      <td>104</td>\n",
       "      <td>low</td>\n",
       "    </tr>\n",
       "    <tr>\n",
       "      <th>1</th>\n",
       "      <td>2023-11-11T00:30Z</td>\n",
       "      <td>108</td>\n",
       "      <td>96</td>\n",
       "      <td>low</td>\n",
       "    </tr>\n",
       "    <tr>\n",
       "      <th>2</th>\n",
       "      <td>2023-11-11T01:00Z</td>\n",
       "      <td>102</td>\n",
       "      <td>96</td>\n",
       "      <td>low</td>\n",
       "    </tr>\n",
       "    <tr>\n",
       "      <th>3</th>\n",
       "      <td>2023-11-11T01:30Z</td>\n",
       "      <td>96</td>\n",
       "      <td>99</td>\n",
       "      <td>low</td>\n",
       "    </tr>\n",
       "    <tr>\n",
       "      <th>4</th>\n",
       "      <td>2023-11-11T02:00Z</td>\n",
       "      <td>97</td>\n",
       "      <td>95</td>\n",
       "      <td>low</td>\n",
       "    </tr>\n",
       "    <tr>\n",
       "      <th>...</th>\n",
       "      <td>...</td>\n",
       "      <td>...</td>\n",
       "      <td>...</td>\n",
       "      <td>...</td>\n",
       "    </tr>\n",
       "    <tr>\n",
       "      <th>1292</th>\n",
       "      <td>2023-12-07T22:00Z</td>\n",
       "      <td>121</td>\n",
       "      <td>126</td>\n",
       "      <td>moderate</td>\n",
       "    </tr>\n",
       "    <tr>\n",
       "      <th>1293</th>\n",
       "      <td>2023-12-07T22:30Z</td>\n",
       "      <td>113</td>\n",
       "      <td>113</td>\n",
       "      <td>low</td>\n",
       "    </tr>\n",
       "    <tr>\n",
       "      <th>1294</th>\n",
       "      <td>2023-12-07T23:00Z</td>\n",
       "      <td>95</td>\n",
       "      <td>111</td>\n",
       "      <td>low</td>\n",
       "    </tr>\n",
       "    <tr>\n",
       "      <th>1295</th>\n",
       "      <td>2023-12-07T23:30Z</td>\n",
       "      <td>87</td>\n",
       "      <td>103</td>\n",
       "      <td>low</td>\n",
       "    </tr>\n",
       "    <tr>\n",
       "      <th>1296</th>\n",
       "      <td>2023-12-08T00:00Z</td>\n",
       "      <td>97</td>\n",
       "      <td>105</td>\n",
       "      <td>low</td>\n",
       "    </tr>\n",
       "  </tbody>\n",
       "</table>\n",
       "<p>1297 rows × 4 columns</p>\n",
       "</div>"
      ],
      "text/plain": [
       "         Datetime (UTC)  Actual Carbon Intensity (gCO2/kWh)  \\\n",
       "0     2023-11-11T00:00Z                                 104   \n",
       "1     2023-11-11T00:30Z                                 108   \n",
       "2     2023-11-11T01:00Z                                 102   \n",
       "3     2023-11-11T01:30Z                                  96   \n",
       "4     2023-11-11T02:00Z                                  97   \n",
       "...                 ...                                 ...   \n",
       "1292  2023-12-07T22:00Z                                 121   \n",
       "1293  2023-12-07T22:30Z                                 113   \n",
       "1294  2023-12-07T23:00Z                                  95   \n",
       "1295  2023-12-07T23:30Z                                  87   \n",
       "1296  2023-12-08T00:00Z                                  97   \n",
       "\n",
       "      Forecast Carbon Intensity (gCO2/kWh)     Index  \n",
       "0                                      104       low  \n",
       "1                                       96       low  \n",
       "2                                       96       low  \n",
       "3                                       99       low  \n",
       "4                                       95       low  \n",
       "...                                    ...       ...  \n",
       "1292                                   126  moderate  \n",
       "1293                                   113       low  \n",
       "1294                                   111       low  \n",
       "1295                                   103       low  \n",
       "1296                                   105       low  \n",
       "\n",
       "[1297 rows x 4 columns]"
      ]
     },
     "execution_count": 16,
     "metadata": {},
     "output_type": "execute_result"
    }
   ],
   "source": [
    "df1"
   ]
  },
  {
   "cell_type": "code",
   "execution_count": 17,
   "metadata": {},
   "outputs": [
    {
     "data": {
      "text/plain": [
       "(array([29., 20., 42., 19., 29., 20., 24., 24., 41., 19., 21., 23.,  9.,\n",
       "        17., 13., 14., 13., 21., 17., 25., 16., 30., 22., 26., 29., 21.,\n",
       "        25., 33., 18., 37., 39., 25., 23., 31., 24., 29., 42., 34., 24.,\n",
       "        38., 47., 48., 34., 35., 36., 34., 23., 15., 10.,  9.]),\n",
       " array([ 56.  ,  61.06,  66.12,  71.18,  76.24,  81.3 ,  86.36,  91.42,\n",
       "         96.48, 101.54, 106.6 , 111.66, 116.72, 121.78, 126.84, 131.9 ,\n",
       "        136.96, 142.02, 147.08, 152.14, 157.2 , 162.26, 167.32, 172.38,\n",
       "        177.44, 182.5 , 187.56, 192.62, 197.68, 202.74, 207.8 , 212.86,\n",
       "        217.92, 222.98, 228.04, 233.1 , 238.16, 243.22, 248.28, 253.34,\n",
       "        258.4 , 263.46, 268.52, 273.58, 278.64, 283.7 , 288.76, 293.82,\n",
       "        298.88, 303.94, 309.  ]),\n",
       " <BarContainer object of 50 artists>)"
      ]
     },
     "execution_count": 17,
     "metadata": {},
     "output_type": "execute_result"
    },
    {
     "data": {
      "image/png": "[encoded data removed]",
      "text/plain": [
       "<Figure size 640x480 with 1 Axes>"
      ]
     },
     "metadata": {},
     "output_type": "display_data"
    }
   ],
   "source": [
    "plt.hist(df1[\"Actual Carbon Intensity (gCO2/kWh)\"], bins=50)"
   ]
  },
  {
   "cell_type": "code",
   "execution_count": 19,
   "metadata": {},
   "outputs": [
    {
     "data": {
      "text/plain": [
       "(array([3., 2., 2., 0., 2., 3., 7., 2., 0., 4.]),\n",
       " array([ 78.6 ,  99.31, 120.02, 140.73, 161.44, 182.15, 202.86, 223.57,\n",
       "        244.28, 264.99, 285.7 ]),\n",
       " <BarContainer object of 10 artists>)"
      ]
     },
     "execution_count": 19,
     "metadata": {},
     "output_type": "execute_result"
    },
    {
     "data": {
      "image/png": "[encoded data removed]",
      "text/plain": [
       "<Figure size 640x480 with 1 Axes>"
      ]
     },
     "metadata": {},
     "output_type": "display_data"
    }
   ],
   "source": [
    "n = 0 \n",
    "avg_l = []\n",
    "for i in range(25):\n",
    "    l = []\n",
    "    for j in range(50):\n",
    "        l.append(df1[\"Actual Carbon Intensity (gCO2/kWh)\"][n])\n",
    "        n += 1\n",
    "    avg_l.append(sum(l)/50)\n",
    "\n",
    "plt.hist(avg_l)"
   ]
  },
  {
   "cell_type": "code",
   "execution_count": 20,
   "metadata": {},
   "outputs": [],
   "source": [
    "csv_file_path_jan = 'Carbon_Intensity_Data_jan.csv'\n",
    "csv_file_path_feb = 'Carbon_Intensity_Data_feb.csv'\n",
    "csv_file_path_mar = 'Carbon_Intensity_Data_mar.csv'\n",
    "csv_file_path_apr = 'Carbon_Intensity_Data_apr.csv'\n",
    "csv_file_path_may = 'Carbon_Intensity_Data_may.csv'\n",
    "csv_file_path_jun = 'Carbon_Intensity_Data_jun.csv'\n",
    "csv_file_path_jul = 'Carbon_Intensity_Data_jul.csv'\n",
    "csv_file_path_avg = 'Carbon_Intensity_Data_avg.csv'\n",
    "csv_file_path_sep = 'Carbon_Intensity_Data_sep.csv'\n",
    "csv_file_path_okt = 'Carbon_Intensity_Data_okt.csv'\n",
    "csv_file_path_nov = 'Carbon_Intensity_Data_nov.csv'\n",
    "df_jan = pd.read_csv(csv_file_path_jan)\n",
    "df_feb = pd.read_csv(csv_file_path_feb)\n",
    "df_mar = pd.read_csv(csv_file_path_mar)\n",
    "df_apr = pd.read_csv(csv_file_path_apr)\n",
    "df_may = pd.read_csv(csv_file_path_may)\n",
    "df_jun = pd.read_csv(csv_file_path_jun)\n",
    "df_jul = pd.read_csv(csv_file_path_jul)\n",
    "df_avg = pd.read_csv(csv_file_path_avg)\n",
    "df_sep = pd.read_csv(csv_file_path_sep)\n",
    "df_okt = pd.read_csv(csv_file_path_okt)\n",
    "df_nov = pd.read_csv(csv_file_path_nov)"
   ]
  },
  {
   "cell_type": "code",
   "execution_count": 21,
   "metadata": {},
   "outputs": [
    {
     "data": {
      "text/html": [
       "<div>\n",
       "<style scoped>\n",
       "    .dataframe tbody tr th:only-of-type {\n",
       "        vertical-align: middle;\n",
       "    }\n",
       "\n",
       "    .dataframe tbody tr th {\n",
       "        vertical-align: top;\n",
       "    }\n",
       "\n",
       "    .dataframe thead th {\n",
       "        text-align: right;\n",
       "    }\n",
       "</style>\n",
       "<table border=\"1\" class=\"dataframe\">\n",
       "  <thead>\n",
       "    <tr style=\"text-align: right;\">\n",
       "      <th></th>\n",
       "      <th>Datetime (UTC)</th>\n",
       "      <th>Actual Carbon Intensity (gCO2/kWh)</th>\n",
       "      <th>Forecast Carbon Intensity (gCO2/kWh)</th>\n",
       "      <th>Index</th>\n",
       "    </tr>\n",
       "  </thead>\n",
       "  <tbody>\n",
       "    <tr>\n",
       "      <th>0</th>\n",
       "      <td>2023-01-01T00:00Z</td>\n",
       "      <td>65.0</td>\n",
       "      <td>75</td>\n",
       "      <td>low</td>\n",
       "    </tr>\n",
       "    <tr>\n",
       "      <th>1</th>\n",
       "      <td>2023-01-01T00:30Z</td>\n",
       "      <td>72.0</td>\n",
       "      <td>73</td>\n",
       "      <td>low</td>\n",
       "    </tr>\n",
       "    <tr>\n",
       "      <th>2</th>\n",
       "      <td>2023-01-01T01:00Z</td>\n",
       "      <td>80.0</td>\n",
       "      <td>63</td>\n",
       "      <td>low</td>\n",
       "    </tr>\n",
       "    <tr>\n",
       "      <th>3</th>\n",
       "      <td>2023-01-01T01:30Z</td>\n",
       "      <td>72.0</td>\n",
       "      <td>71</td>\n",
       "      <td>low</td>\n",
       "    </tr>\n",
       "    <tr>\n",
       "      <th>4</th>\n",
       "      <td>2023-01-01T02:00Z</td>\n",
       "      <td>65.0</td>\n",
       "      <td>76</td>\n",
       "      <td>low</td>\n",
       "    </tr>\n",
       "    <tr>\n",
       "      <th>...</th>\n",
       "      <td>...</td>\n",
       "      <td>...</td>\n",
       "      <td>...</td>\n",
       "      <td>...</td>\n",
       "    </tr>\n",
       "    <tr>\n",
       "      <th>15419</th>\n",
       "      <td>2023-11-29T22:00Z</td>\n",
       "      <td>285.0</td>\n",
       "      <td>277</td>\n",
       "      <td>high</td>\n",
       "    </tr>\n",
       "    <tr>\n",
       "      <th>15420</th>\n",
       "      <td>2023-11-29T22:30Z</td>\n",
       "      <td>277.0</td>\n",
       "      <td>278</td>\n",
       "      <td>high</td>\n",
       "    </tr>\n",
       "    <tr>\n",
       "      <th>15421</th>\n",
       "      <td>2023-11-29T23:00Z</td>\n",
       "      <td>277.0</td>\n",
       "      <td>275</td>\n",
       "      <td>high</td>\n",
       "    </tr>\n",
       "    <tr>\n",
       "      <th>15422</th>\n",
       "      <td>2023-11-29T23:30Z</td>\n",
       "      <td>275.0</td>\n",
       "      <td>271</td>\n",
       "      <td>high</td>\n",
       "    </tr>\n",
       "    <tr>\n",
       "      <th>15423</th>\n",
       "      <td>2023-11-30T00:00Z</td>\n",
       "      <td>277.0</td>\n",
       "      <td>274</td>\n",
       "      <td>high</td>\n",
       "    </tr>\n",
       "  </tbody>\n",
       "</table>\n",
       "<p>15424 rows × 4 columns</p>\n",
       "</div>"
      ],
      "text/plain": [
       "          Datetime (UTC)  Actual Carbon Intensity (gCO2/kWh)  \\\n",
       "0      2023-01-01T00:00Z                                65.0   \n",
       "1      2023-01-01T00:30Z                                72.0   \n",
       "2      2023-01-01T01:00Z                                80.0   \n",
       "3      2023-01-01T01:30Z                                72.0   \n",
       "4      2023-01-01T02:00Z                                65.0   \n",
       "...                  ...                                 ...   \n",
       "15419  2023-11-29T22:00Z                               285.0   \n",
       "15420  2023-11-29T22:30Z                               277.0   \n",
       "15421  2023-11-29T23:00Z                               277.0   \n",
       "15422  2023-11-29T23:30Z                               275.0   \n",
       "15423  2023-11-30T00:00Z                               277.0   \n",
       "\n",
       "       Forecast Carbon Intensity (gCO2/kWh) Index  \n",
       "0                                        75   low  \n",
       "1                                        73   low  \n",
       "2                                        63   low  \n",
       "3                                        71   low  \n",
       "4                                        76   low  \n",
       "...                                     ...   ...  \n",
       "15419                                   277  high  \n",
       "15420                                   278  high  \n",
       "15421                                   275  high  \n",
       "15422                                   271  high  \n",
       "15423                                   274  high  \n",
       "\n",
       "[15424 rows x 4 columns]"
      ]
     },
     "execution_count": 21,
     "metadata": {},
     "output_type": "execute_result"
    }
   ],
   "source": [
    "df = pd.concat([df_jan, df_feb, df_mar, df_apr, df_may, df_jun, df_jul, df_avg, df_sep, df_okt, df_nov], ignore_index=True)\n",
    "df"
   ]
  },
  {
   "cell_type": "markdown",
   "metadata": {},
   "source": [
    "Sedaj najprej narišimo histogram vseh podatkov za Actual Carbon Intensity (gCO2/kWh)."
   ]
  },
  {
   "cell_type": "code",
   "execution_count": 22,
   "metadata": {},
   "outputs": [
    {
     "data": {
      "text/plain": [
       "(array([   5.,  697., 2370., 2169., 2294., 2513., 2344., 2074.,  854.,\n",
       "          99.]),\n",
       " array([  0. ,  30.7,  61.4,  92.1, 122.8, 153.5, 184.2, 214.9, 245.6,\n",
       "        276.3, 307. ]),\n",
       " <BarContainer object of 10 artists>)"
      ]
     },
     "execution_count": 22,
     "metadata": {},
     "output_type": "execute_result"
    },
    {
     "data": {
      "image/png": "[encoded data removed]",
      "text/plain": [
       "<Figure size 640x480 with 1 Axes>"
      ]
     },
     "metadata": {},
     "output_type": "display_data"
    }
   ],
   "source": [
    "plt.hist(df[\"Actual Carbon Intensity (gCO2/kWh)\"])"
   ]
  },
  {
   "cell_type": "code",
   "execution_count": 23,
   "metadata": {},
   "outputs": [
    {
     "data": {
      "text/plain": [
       "(array([  4.,   0.,   1.,  29., 131., 537., 861., 755., 754., 738., 700.,\n",
       "        731., 772., 782., 740., 786., 764., 963., 868., 753., 723., 841.,\n",
       "        666., 567., 412., 306., 136.,  58.,  32.,   9.]),\n",
       " array([  0.        ,  10.23333333,  20.46666667,  30.7       ,\n",
       "         40.93333333,  51.16666667,  61.4       ,  71.63333333,\n",
       "         81.86666667,  92.1       , 102.33333333, 112.56666667,\n",
       "        122.8       , 133.03333333, 143.26666667, 153.5       ,\n",
       "        163.73333333, 173.96666667, 184.2       , 194.43333333,\n",
       "        204.66666667, 214.9       , 225.13333333, 235.36666667,\n",
       "        245.6       , 255.83333333, 266.06666667, 276.3       ,\n",
       "        286.53333333, 296.76666667, 307.        ]),\n",
       " <BarContainer object of 30 artists>)"
      ]
     },
     "execution_count": 23,
     "metadata": {},
     "output_type": "execute_result"
    },
    {
     "data": {
      "image/png": "[encoded data removed]",
      "text/plain": [
       "<Figure size 640x480 with 1 Axes>"
      ]
     },
     "metadata": {},
     "output_type": "display_data"
    }
   ],
   "source": [
    "plt.hist(df[\"Actual Carbon Intensity (gCO2/kWh)\"], bins=30)"
   ]
  },
  {
   "cell_type": "markdown",
   "metadata": {},
   "source": [
    "Kaj pa, če gledamo dnevna povprečja? "
   ]
  },
  {
   "cell_type": "code",
   "execution_count": null,
   "metadata": {},
   "outputs": [],
   "source": [
    "n = 0 \n",
    "avg_l = []\n",
    "for i in range(330):\n",
    "    l = []\n",
    "    for j in range(50):\n",
    "        l.append(df[\"Actual Carbon Intensity (gCO2/kWh)\"][n])\n",
    "        n += 1\n",
    "    avg_l.append(sum(l)/50)\n",
    "\n",
    "plt.hist(avg_l)"
   ]
  }
 ],
 "metadata": {
  "kernelspec": {
   "display_name": "Python 3",
   "language": "python",
   "name": "python3"
  },
  "language_info": {
   "codemirror_mode": {
    "name": "ipython",
    "version": 3
   },
   "file_extension": ".py",
   "mimetype": "text/x-python",
   "name": "python",
   "nbconvert_exporter": "python",
   "pygments_lexer": "ipython3",
   "version": "3.9.1"
  }
 },
 "nbformat": 4,
 "nbformat_minor": 2
}
