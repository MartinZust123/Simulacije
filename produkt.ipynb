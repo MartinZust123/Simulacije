{
 "cells": [
  {
   "cell_type": "markdown",
   "metadata": {},
   "source": [
    "# Simulation of the product of AoI and CF"
   ]
  },
  {
   "cell_type": "code",
   "execution_count": 1,
   "metadata": {},
   "outputs": [],
   "source": [
    "from Model_SAoI import Packet, System"
   ]
  },
  {
   "cell_type": "code",
   "execution_count": null,
   "metadata": {},
   "outputs": [],
   "source": [
    "#we create M/M/1 LoRaWAN system\n",
    "sistem = System([\"M\", arrival_rate], [\"M\", serving_rate], gateway=True, num_of_queues=1, num_of_servers=1, queue=deque([]), queue_capacity=None, FIFO=True, age=0)\n",
    "prihodi1 = sistem1.create_arrivals(1000)\n",
    "strezbe1 = sistem1.create_servings(1000)\n",
    "\n",
    "time = 0\n",
    "ar_ind = 0\n",
    "ser_ind = 0\n",
    "inter_serving_time = 0\n",
    "age_list = []\n",
    "for i in range(20000):\n",
    "    sistem1.increase_age(0.05)\n",
    "    time += 0.05\n",
    "    inter_serving_time += 0.05\n",
    "    if prihodi1[ar_ind] < time:\n",
    "        sistem1.add_to_queue(Packet(1,0,time,\"bq\"))\n",
    "        ar_ind += 1 \n",
    "    if strezbe1[ser_ind] < inter_serving_time and len(sistem1.queue) != 0:\n",
    "        sistem1.set_age(time - sistem1.queue[0].gen_time)\n",
    "        sistem1.delete_from_queue()\n",
    "        inter_serving_time = 0\n",
    "        ser_ind += 1\n",
    "    age_list.append(sistem1.age)"
   ]
  }
 ],
 "metadata": {
  "kernelspec": {
   "display_name": "Python 3",
   "language": "python",
   "name": "python3"
  },
  "language_info": {
   "codemirror_mode": {
    "name": "ipython",
    "version": 3
   },
   "file_extension": ".py",
   "mimetype": "text/x-python",
   "name": "python",
   "nbconvert_exporter": "python",
   "pygments_lexer": "ipython3",
   "version": "3.9.1"
  }
 },
 "nbformat": 4,
 "nbformat_minor": 2
}
