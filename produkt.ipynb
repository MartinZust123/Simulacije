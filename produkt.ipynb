{
 "cells": [
  {
   "cell_type": "markdown",
   "metadata": {},
   "source": [
    "# Simulation of the product of AoI and CF"
   ]
  },
  {
   "cell_type": "code",
   "execution_count": 4,
   "metadata": {},
   "outputs": [],
   "source": [
    "from Model_SAoI import Packet, System\n",
    "from collections import deque"
   ]
  },
  {
   "cell_type": "code",
   "execution_count": 6,
   "metadata": {},
   "outputs": [
    {
     "data": {
      "text/plain": [
       "6.564349999999791"
      ]
     },
     "execution_count": 6,
     "metadata": {},
     "output_type": "execute_result"
    }
   ],
   "source": [
    "#we create M/M/1 LoRaWAN system\n",
    "sistem = System([\"M\", 0.5], [\"M\", 1], gateway=True, num_of_queues=1, num_of_servers=1, queue=deque([]), queue_capacity=None, FIFO=True, age=0)\n",
    "arrivals = sistem.create_arrivals(100)\n",
    "servings = sistem.create_servings(100)\n",
    "\n",
    "time = 0\n",
    "ar_ind = 0\n",
    "ser_ind = 0\n",
    "inter_serving_time = 0\n",
    "age_list = []\n",
    "before_gateway = []\n",
    "E = 0\n",
    "for i in range(2000):\n",
    "    sistem.increase_age(0.05)\n",
    "    time += 0.05\n",
    "    inter_serving_time += 0.05\n",
    "    E += 0.05\n",
    "    if arrivals[ar_ind] < time:\n",
    "        before_gateway.append(Packet(1,5,time,\"bg\")) #packet is first at the position 'before gateway'\n",
    "        ar_ind += 1\n",
    "    #we analyze queue before gateway\n",
    "    for e in before_gateway:\n",
    "        if e.trans < 0:\n",
    "            sistem.add_to_queue(e)\n",
    "            before_gateway.remove(e)\n",
    "            e.change_position(\"bq\") #change position to 'before queue'\n",
    "        else:\n",
    "            #we decrease value of transmission time for all packets in before_gateway list\n",
    "            e.transmit(0.05) \n",
    "    if servings[ser_ind] < inter_serving_time and len(sistem.queue) != 0:\n",
    "        sistem.set_age(time - sistem.queue[0].gen_time)\n",
    "        sistem.delete_from_queue()\n",
    "        inter_serving_time = 0\n",
    "        ser_ind += 1\n",
    "    age_list.append(sistem.age)\n",
    "\n",
    "sum(age_list)/len(age_list)"
   ]
  },
  {
   "cell_type": "code",
   "execution_count": null,
   "metadata": {},
   "outputs": [],
   "source": []
  }
 ],
 "metadata": {
  "kernelspec": {
   "display_name": "Python 3",
   "language": "python",
   "name": "python3"
  },
  "language_info": {
   "codemirror_mode": {
    "name": "ipython",
    "version": 3
   },
   "file_extension": ".py",
   "mimetype": "text/x-python",
   "name": "python",
   "nbconvert_exporter": "python",
   "pygments_lexer": "ipython3",
   "version": "3.9.1"
  }
 },
 "nbformat": 4,
 "nbformat_minor": 2
}
